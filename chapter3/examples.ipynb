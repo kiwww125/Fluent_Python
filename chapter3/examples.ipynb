{
 "cells": [
  {
   "cell_type": "code",
   "execution_count": 10,
   "metadata": {
    "collapsed": true,
    "pycharm": {
     "name": "#%%\n"
    }
   },
   "outputs": [
    {
     "name": "stdout",
     "output_type": "stream",
     "text": [
      "True\n"
     ]
    }
   ],
   "source": [
    "# many ways to init dict\n",
    "a = dict(one=1, two=2, three=3)\n",
    "b = {'one': 1, 'two': 2, 'three': 3}\n",
    "c = dict(zip(['one', 'two', 'three'], [1, 2, 3]))\n",
    "d = dict([('two', 2), ('one', 1), ('three', 3)])\n",
    "print(a == b == c == d)\n"
   ]
  },
  {
   "cell_type": "code",
   "execution_count": 11,
   "outputs": [
    {
     "name": "stdout",
     "output_type": "stream",
     "text": [
      "dict_keys(['0', '1', '2', '3', '4', '5', '6', '7', '8', '9'])\n",
      "dict_values([[0], [1], [2], [3], [4], [5], [6], [7], [8], [9]])\n"
     ]
    }
   ],
   "source": [
    "# defaultdict\n",
    "import collections\n",
    "\n",
    "d = collections.defaultdict(list)\n",
    "for i in range(10):\n",
    "    d[str(i)].append(i)\n",
    "print(d.keys())\n",
    "print(d.values())"
   ],
   "metadata": {
    "collapsed": false,
    "pycharm": {
     "name": "#%%\n"
    }
   }
  },
  {
   "cell_type": "code",
   "execution_count": 1,
   "outputs": [
    {
     "name": "stdout",
     "output_type": "stream",
     "text": [
      "dict_keys(['0', '1', '2', '3', '4', '5', '6', '7', '8', '9'])\n",
      "dict_values([[0], [1], [2], [3], [4], [5], [6], [7], [8], [9]])\n"
     ]
    }
   ],
   "source": [
    "d = dict()\n",
    "for i in range(10):\n",
    "    d.setdefault(str(i), []).append(i)\n",
    "print(d.keys())\n",
    "print(d.values())"
   ],
   "metadata": {
    "collapsed": false,
    "pycharm": {
     "name": "#%%\n"
    }
   }
  },
  {
   "cell_type": "code",
   "execution_count": 3,
   "outputs": [
    {
     "name": "stdout",
     "output_type": "stream",
     "text": [
      "a\n",
      "'mappingproxy' object does not support item assignment\n",
      "{1: 'a', 2: 'b'}\n"
     ]
    }
   ],
   "source": [
    "from types import MappingProxyType\n",
    "d = {1 :'a'}\n",
    "d_proxy = MappingProxyType(d)\n",
    "print(d_proxy[1])\n",
    "try:\n",
    "    d_proxy[2] = 'x'\n",
    "except BaseException as e:\n",
    "    print(e)\n",
    "d[2] = 'b'\n",
    "print(d_proxy)\n"
   ],
   "metadata": {
    "collapsed": false,
    "pycharm": {
     "name": "#%%\n"
    }
   }
  }
 ],
 "metadata": {
  "kernelspec": {
   "display_name": "Python 3",
   "language": "python",
   "name": "python3"
  },
  "language_info": {
   "codemirror_mode": {
    "name": "ipython",
    "version": 2
   },
   "file_extension": ".py",
   "mimetype": "text/x-python",
   "name": "python",
   "nbconvert_exporter": "python",
   "pygments_lexer": "ipython2",
   "version": "2.7.6"
  }
 },
 "nbformat": 4,
 "nbformat_minor": 0
}